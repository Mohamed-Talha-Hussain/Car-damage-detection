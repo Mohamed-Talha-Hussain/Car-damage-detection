{
 "cells": [
  {
   "cell_type": "markdown",
   "id": "885ec39a",
   "metadata": {},
   "source": [
    "<h2 align=\"center\">Codebasics DL Course: Vehicle Damage Detection Project</h2>"
   ]
  },
  {
   "cell_type": "code",
   "execution_count": 1,
   "id": "a8e97ab8",
   "metadata": {},
   "outputs": [],
   "source": [
    "import os\n",
    "from torchvision import datasets, transforms\n",
    "from torch.utils.data import DataLoader\n",
    "import torch\n",
    "import torch.nn as nn\n",
    "import torch.optim as optim\n",
    "import torch.nn.functional as F\n",
    "import time\n",
    "import torchvision.models as models\n",
    "from matplotlib import pyplot as plt"
   ]
  },
  {
   "cell_type": "code",
   "execution_count": 2,
   "id": "94043f3c",
   "metadata": {},
   "outputs": [
    {
     "data": {
      "text/plain": [
       "device(type='cpu')"
      ]
     },
     "execution_count": 2,
     "metadata": {},
     "output_type": "execute_result"
    }
   ],
   "source": [
    "device = torch.device(\"cuda\" if torch.cuda.is_available() else \"cpu\")\n",
    "device"
   ]
  },
  {
   "cell_type": "markdown",
   "id": "4d4a91fc",
   "metadata": {},
   "source": [
    "### Load Data"
   ]
  },
  {
   "cell_type": "code",
   "execution_count": 3,
   "id": "f2f3e21e",
   "metadata": {},
   "outputs": [],
   "source": [
    "image_transforms = transforms.Compose([\n",
    "    transforms.RandomHorizontalFlip(),\n",
    "    transforms.RandomRotation(10),\n",
    "    transforms.ColorJitter(brightness=0.2, contrast=0.2),\n",
    "    transforms.Resize((224, 224)),\n",
    "    transforms.ToTensor(),\n",
    "    transforms.Normalize(mean=[0.485, 0.456, 0.406], std=[0.229, 0.224, 0.225])\n",
    "])"
   ]
  },
  {
   "cell_type": "code",
   "execution_count": 4,
   "id": "c4495296",
   "metadata": {},
   "outputs": [
    {
     "data": {
      "text/plain": [
       "2300"
      ]
     },
     "execution_count": 4,
     "metadata": {},
     "output_type": "execute_result"
    }
   ],
   "source": [
    "dataset_path = \"./dataset\"\n",
    "\n",
    "dataset = datasets.ImageFolder(root=dataset_path, transform=image_transforms)\n",
    "len(dataset)"
   ]
  },
  {
   "cell_type": "code",
   "execution_count": 5,
   "id": "f4fd845c",
   "metadata": {},
   "outputs": [
    {
     "data": {
      "text/plain": [
       "1725.0"
      ]
     },
     "execution_count": 5,
     "metadata": {},
     "output_type": "execute_result"
    }
   ],
   "source": [
    "2300*0.75"
   ]
  },
  {
   "cell_type": "code",
   "execution_count": 6,
   "id": "8a5c0c93",
   "metadata": {},
   "outputs": [
    {
     "data": {
      "text/plain": [
       "['F_Breakage', 'F_Crushed', 'F_Normal', 'R_Breakage', 'R_Crushed', 'R_Normal']"
      ]
     },
     "execution_count": 6,
     "metadata": {},
     "output_type": "execute_result"
    }
   ],
   "source": [
    "class_names = dataset.classes\n",
    "class_names "
   ]
  },
  {
   "cell_type": "code",
   "execution_count": 7,
   "id": "4373a3c7",
   "metadata": {},
   "outputs": [
    {
     "data": {
      "text/plain": [
       "6"
      ]
     },
     "execution_count": 7,
     "metadata": {},
     "output_type": "execute_result"
    }
   ],
   "source": [
    "num_classes = len(dataset.classes)\n",
    "num_classes"
   ]
  },
  {
   "cell_type": "code",
   "execution_count": 8,
   "id": "357cf384",
   "metadata": {},
   "outputs": [
    {
     "data": {
      "text/plain": [
       "(1725, 575)"
      ]
     },
     "execution_count": 8,
     "metadata": {},
     "output_type": "execute_result"
    }
   ],
   "source": [
    "train_size = int(0.75*len(dataset))\n",
    "val_size = len(dataset) - train_size\n",
    "\n",
    "train_size, val_size"
   ]
  },
  {
   "cell_type": "code",
   "execution_count": 9,
   "id": "ce73b1d9",
   "metadata": {},
   "outputs": [],
   "source": [
    "from torch.utils.data import random_split\n",
    "\n",
    "train_dataset, val_dataset = random_split(dataset, [train_size, val_size])"
   ]
  },
  {
   "cell_type": "code",
   "execution_count": 10,
   "id": "8ea8ef79",
   "metadata": {},
   "outputs": [],
   "source": [
    "train_loader = DataLoader(train_dataset, batch_size=32, shuffle=True)\n",
    "val_loader = DataLoader(val_dataset, batch_size=32, shuffle=True)"
   ]
  },
  {
   "cell_type": "code",
   "execution_count": 11,
   "id": "c2ee7190",
   "metadata": {},
   "outputs": [
    {
     "name": "stdout",
     "output_type": "stream",
     "text": [
      "torch.Size([32, 3, 224, 224])\n",
      "torch.Size([32])\n"
     ]
    }
   ],
   "source": [
    "for images, labels in train_loader:\n",
    "    print(images.shape)\n",
    "    print(labels.shape)\n",
    "    break"
   ]
  },
  {
   "cell_type": "code",
   "execution_count": 12,
   "id": "37412e6b",
   "metadata": {},
   "outputs": [
    {
     "data": {
      "text/plain": [
       "tensor(3)"
      ]
     },
     "execution_count": 12,
     "metadata": {},
     "output_type": "execute_result"
    }
   ],
   "source": [
    "labels[1]"
   ]
  },
  {
   "cell_type": "code",
   "execution_count": 13,
   "id": "ed545b4b",
   "metadata": {},
   "outputs": [
    {
     "data": {
      "text/plain": [
       "torch.Size([3, 224, 224])"
      ]
     },
     "execution_count": 13,
     "metadata": {},
     "output_type": "execute_result"
    }
   ],
   "source": [
    "images[1].shape"
   ]
  },
  {
   "cell_type": "code",
   "execution_count": 14,
   "id": "fc5835f1",
   "metadata": {},
   "outputs": [
    {
     "data": {
      "text/plain": [
       "torch.Size([224, 224, 3])"
      ]
     },
     "execution_count": 14,
     "metadata": {},
     "output_type": "execute_result"
    }
   ],
   "source": [
    "images[1].permute(1,2,0).shape"
   ]
  },
  {
   "cell_type": "code",
   "execution_count": 15,
   "id": "14e0e36a",
   "metadata": {},
   "outputs": [
    {
     "name": "stderr",
     "output_type": "stream",
     "text": [
      "Clipping input data to the valid range for imshow with RGB data ([0..1] for floats or [0..255] for integers). Got range [-2.0322802..2.5005665].\n"
     ]
    },
    {
     "data": {
      "image/png": "[encoded data removed]",
      "text/plain": [
       "<Figure size 640x480 with 1 Axes>"
      ]
     },
     "metadata": {},
     "output_type": "display_data"
    }
   ],
   "source": [
    "plt.imshow(images[1].permute(1,2,0))\n",
    "plt.show()"
   ]
  },
  {
   "cell_type": "markdown",
   "id": "b6e8c1d4",
   "metadata": {},
   "source": [
    "### Model 1: CNN"
   ]
  },
  {
   "cell_type": "code",
   "execution_count": 16,
   "id": "af38f156",
   "metadata": {},
   "outputs": [],
   "source": [
    "class CarClassifierCNN(nn.Module):\n",
    "    def __init__(self, num_classes):\n",
    "        super().__init__()\n",
    "        self.network = nn.Sequential(\n",
    "            nn.Conv2d(in_channels=3, out_channels=16, kernel_size=3, stride=1, padding=1), # (16, 224, 224) \n",
    "            nn.ReLU(),\n",
    "            nn.MaxPool2d(kernel_size=2, stride=2, padding=0), # (16, 112, 112),\n",
    "            nn.Conv2d(in_channels=16, out_channels=32, kernel_size=3, stride=1, padding=1), \n",
    "            nn.ReLU(),\n",
    "            nn.MaxPool2d(kernel_size=2, stride=2, padding=0), # (32, 56, 56)           \n",
    "            nn.Conv2d(in_channels=32, out_channels=64, kernel_size=3, stride=1, padding=1), \n",
    "            nn.ReLU(),\n",
    "            nn.MaxPool2d(kernel_size=2, stride=2, padding=0), # (64, 28, 28),\n",
    "            nn.Flatten(),\n",
    "            nn.Linear(64*28*28, 512),\n",
    "            nn.ReLU(),\n",
    "            nn.Linear(512, num_classes)\n",
    "        )\n",
    "        \n",
    "    def forward(self, x):\n",
    "        x = self.network(x)\n",
    "        return x"
   ]
  },
  {
   "cell_type": "code",
   "execution_count": 17,
   "id": "6d8bd77b",
   "metadata": {},
   "outputs": [
    {
     "data": {
      "text/plain": [
       "32"
      ]
     },
     "execution_count": 17,
     "metadata": {},
     "output_type": "execute_result"
    }
   ],
   "source": [
    "images.size(0)"
   ]
  },
  {
   "cell_type": "code",
   "execution_count": 18,
   "id": "c634d550",
   "metadata": {},
   "outputs": [
    {
     "data": {
      "text/plain": [
       "1725"
      ]
     },
     "execution_count": 18,
     "metadata": {},
     "output_type": "execute_result"
    }
   ],
   "source": [
    "len(train_loader.dataset)"
   ]
  },
  {
   "cell_type": "code",
   "execution_count": 19,
   "id": "80c1c552",
   "metadata": {},
   "outputs": [],
   "source": [
    "def train_model(model, criterion, optimizer, epochs=5):\n",
    "    start = time.time()\n",
    "    \n",
    "    for epoch in range(epochs):\n",
    "        model.train()\n",
    "        running_loss = 0.0\n",
    "        for batch_num, (images, labels) in enumerate(train_loader):\n",
    "            images, labels = images.to(device), labels.to(device)\n",
    "            \n",
    "            # Zero the parameter gradients\n",
    "            optimizer.zero_grad()\n",
    "            \n",
    "            # Forward pass\n",
    "            outputs = model(images)\n",
    "            loss = criterion(outputs, labels)\n",
    "            \n",
    "            # Backward pass and optimization\n",
    "            loss.backward()\n",
    "            optimizer.step()\n",
    "            \n",
    "            if (batch_num+1) % 10 == 0:\n",
    "                print(f\"Batch: {batch_num+1}, Epoch: {epoch+1}, Loss: {loss.item():0.2f}\")\n",
    "            \n",
    "            running_loss += loss.item() * images.size(0)\n",
    "            \n",
    "        epoch_loss = running_loss / len(train_loader.dataset)\n",
    "        print(f\"Epoch [{epoch+1}/{epochs}], Avg Loss: {epoch_loss:.4f}\")\n",
    "\n",
    "        # Validation\n",
    "        model.eval()\n",
    "        correct = 0\n",
    "        total = 0\n",
    "        all_labels = []\n",
    "        all_predictions = []\n",
    "        \n",
    "        with torch.no_grad():\n",
    "            for images, labels in val_loader:\n",
    "                images, labels = images.to(device), labels.to(device)\n",
    "                outputs = model(images)\n",
    "                _, predicted = torch.max(outputs.data,1)\n",
    "                total += labels.size(0)\n",
    "                correct += (predicted == labels).sum().item()\n",
    "                all_labels.extend(labels.cpu().numpy())\n",
    "                all_predictions.extend(predicted.cpu().numpy())\n",
    "                \n",
    "            print(f\"*** Validation Accuracy: {100 * correct / total:.2f}% ***\")\n",
    "            \n",
    "    end = time.time()\n",
    "    print(f\"Execution time: {end - start} seconds\")     \n",
    "    \n",
    "    return all_labels, all_predictions"
   ]
  },
  {
   "cell_type": "code",
   "execution_count": 72,
   "id": "65149270",
   "metadata": {},
   "outputs": [
    {
     "name": "stdout",
     "output_type": "stream",
     "text": [
      "Batch: 10, Epoch: 1, Loss: 1.79\n",
      "Batch: 20, Epoch: 1, Loss: 1.90\n",
      "Batch: 30, Epoch: 1, Loss: 1.69\n",
      "Batch: 40, Epoch: 1, Loss: 1.66\n",
      "Batch: 50, Epoch: 1, Loss: 1.72\n",
      "Epoch [1/10], Avg Loss: 1.7893\n",
      "*** Validation Accuracy: 37.57% ***\n",
      "Batch: 10, Epoch: 2, Loss: 1.48\n",
      "Batch: 20, Epoch: 2, Loss: 1.63\n",
      "Batch: 30, Epoch: 2, Loss: 1.43\n",
      "Batch: 40, Epoch: 2, Loss: 1.63\n",
      "Batch: 50, Epoch: 2, Loss: 1.34\n",
      "Epoch [2/10], Avg Loss: 1.4138\n",
      "*** Validation Accuracy: 45.22% ***\n",
      "Batch: 10, Epoch: 3, Loss: 1.36\n",
      "Batch: 20, Epoch: 3, Loss: 1.30\n",
      "Batch: 30, Epoch: 3, Loss: 1.13\n",
      "Batch: 40, Epoch: 3, Loss: 0.88\n",
      "Batch: 50, Epoch: 3, Loss: 1.22\n",
      "Epoch [3/10], Avg Loss: 1.2531\n",
      "*** Validation Accuracy: 50.09% ***\n",
      "Batch: 10, Epoch: 4, Loss: 1.18\n",
      "Batch: 20, Epoch: 4, Loss: 1.04\n",
      "Batch: 30, Epoch: 4, Loss: 1.11\n",
      "Batch: 40, Epoch: 4, Loss: 1.03\n",
      "Batch: 50, Epoch: 4, Loss: 0.88\n",
      "Epoch [4/10], Avg Loss: 1.0982\n",
      "*** Validation Accuracy: 51.30% ***\n",
      "Batch: 10, Epoch: 5, Loss: 0.78\n",
      "Batch: 20, Epoch: 5, Loss: 0.90\n",
      "Batch: 30, Epoch: 5, Loss: 1.08\n",
      "Batch: 40, Epoch: 5, Loss: 1.24\n",
      "Batch: 50, Epoch: 5, Loss: 0.91\n",
      "Epoch [5/10], Avg Loss: 0.9721\n",
      "*** Validation Accuracy: 54.09% ***\n",
      "Batch: 10, Epoch: 6, Loss: 1.06\n",
      "Batch: 20, Epoch: 6, Loss: 0.90\n",
      "Batch: 30, Epoch: 6, Loss: 0.78\n",
      "Batch: 40, Epoch: 6, Loss: 0.99\n",
      "Batch: 50, Epoch: 6, Loss: 0.75\n",
      "Epoch [6/10], Avg Loss: 0.9053\n",
      "*** Validation Accuracy: 56.87% ***\n",
      "Batch: 10, Epoch: 7, Loss: 0.86\n",
      "Batch: 20, Epoch: 7, Loss: 0.80\n",
      "Batch: 30, Epoch: 7, Loss: 1.11\n",
      "Batch: 40, Epoch: 7, Loss: 1.00\n",
      "Batch: 50, Epoch: 7, Loss: 1.11\n",
      "Epoch [7/10], Avg Loss: 0.8732\n",
      "*** Validation Accuracy: 56.87% ***\n",
      "Batch: 10, Epoch: 8, Loss: 0.71\n",
      "Batch: 20, Epoch: 8, Loss: 0.85\n",
      "Batch: 30, Epoch: 8, Loss: 0.83\n",
      "Batch: 40, Epoch: 8, Loss: 1.01\n",
      "Batch: 50, Epoch: 8, Loss: 1.09\n",
      "Epoch [8/10], Avg Loss: 0.8449\n",
      "*** Validation Accuracy: 55.30% ***\n",
      "Batch: 10, Epoch: 9, Loss: 0.77\n",
      "Batch: 20, Epoch: 9, Loss: 1.00\n",
      "Batch: 30, Epoch: 9, Loss: 0.76\n",
      "Batch: 40, Epoch: 9, Loss: 0.68\n",
      "Batch: 50, Epoch: 9, Loss: 0.80\n",
      "Epoch [9/10], Avg Loss: 0.7649\n",
      "*** Validation Accuracy: 57.22% ***\n",
      "Batch: 10, Epoch: 10, Loss: 0.58\n",
      "Batch: 20, Epoch: 10, Loss: 0.59\n",
      "Batch: 30, Epoch: 10, Loss: 0.71\n",
      "Batch: 40, Epoch: 10, Loss: 0.94\n",
      "Batch: 50, Epoch: 10, Loss: 0.71\n",
      "Epoch [10/10], Avg Loss: 0.7320\n",
      "*** Validation Accuracy: 57.74% ***\n",
      "Execution time: 702.502569437027 seconds\n"
     ]
    }
   ],
   "source": [
    "# Instantiate the model, loss function, and optimizer\n",
    "model = CarClassifierCNN(num_classes=num_classes).to(device)\n",
    "criterion = nn.CrossEntropyLoss()\n",
    "optimizer = optim.Adam(model.parameters(), lr=0.001)\n",
    "\n",
    "all_labels, all_predictions = train_model(model, criterion, optimizer, epochs=10)"
   ]
  },
  {
   "cell_type": "markdown",
   "id": "d398d166",
   "metadata": {},
   "source": [
    "### Model 2: CNN with Regularization"
   ]
  },
  {
   "cell_type": "code",
   "execution_count": 73,
   "id": "d6bb6b55",
   "metadata": {},
   "outputs": [],
   "source": [
    "class CarClassifierCNNWithRegularization(nn.Module):\n",
    "    def __init__(self, num_classes):\n",
    "        super().__init__()\n",
    "        self.network = nn.Sequential(\n",
    "            nn.Conv2d(in_channels=3, out_channels=16, kernel_size=3, stride=1, padding=1), # (16, 224, 224) \n",
    "            nn.BatchNorm2d(16),\n",
    "            nn.ReLU(),\n",
    "            nn.MaxPool2d(kernel_size=2, stride=2, padding=0), # (16, 112, 112),\n",
    "            nn.Conv2d(in_channels=16, out_channels=32, kernel_size=3, stride=1, padding=1), \n",
    "            nn.BatchNorm2d(32),\n",
    "            nn.ReLU(),\n",
    "            nn.MaxPool2d(kernel_size=2, stride=2, padding=0), # (32, 56, 56)           \n",
    "            nn.Conv2d(in_channels=32, out_channels=64, kernel_size=3, stride=1, padding=1), \n",
    "            nn.BatchNorm2d(64),\n",
    "            nn.ReLU(),\n",
    "            nn.MaxPool2d(kernel_size=2, stride=2, padding=0), # (64, 28, 28),\n",
    "            nn.Flatten(),\n",
    "            nn.Linear(64*28*28, 512),\n",
    "            nn.ReLU(),\n",
    "            nn.Dropout(0.5),\n",
    "            nn.Linear(512, num_classes)\n",
    "        )\n",
    "        \n",
    "    def forward(self, x):\n",
    "        x = self.network(x)\n",
    "        return x"
   ]
  },
  {
   "cell_type": "code",
   "execution_count": 75,
   "id": "a158a32f",
   "metadata": {},
   "outputs": [
    {
     "name": "stdout",
     "output_type": "stream",
     "text": [
      "Batch: 10, Epoch: 1, Loss: 14.10\n",
      "Batch: 20, Epoch: 1, Loss: 4.84\n",
      "Batch: 30, Epoch: 1, Loss: 1.41\n",
      "Batch: 40, Epoch: 1, Loss: 1.50\n",
      "Batch: 50, Epoch: 1, Loss: 1.93\n",
      "Epoch [1/10], Avg Loss: 6.9776\n",
      "*** Validation Accuracy: 39.48% ***\n",
      "Batch: 10, Epoch: 2, Loss: 1.52\n",
      "Batch: 20, Epoch: 2, Loss: 1.41\n",
      "Batch: 30, Epoch: 2, Loss: 1.25\n",
      "Batch: 40, Epoch: 2, Loss: 1.68\n",
      "Batch: 50, Epoch: 2, Loss: 1.70\n",
      "Epoch [2/10], Avg Loss: 1.4713\n",
      "*** Validation Accuracy: 46.61% ***\n",
      "Batch: 10, Epoch: 3, Loss: 1.21\n",
      "Batch: 20, Epoch: 3, Loss: 1.22\n",
      "Batch: 30, Epoch: 3, Loss: 1.37\n",
      "Batch: 40, Epoch: 3, Loss: 1.32\n",
      "Batch: 50, Epoch: 3, Loss: 1.28\n",
      "Epoch [3/10], Avg Loss: 1.3041\n",
      "*** Validation Accuracy: 50.09% ***\n",
      "Batch: 10, Epoch: 4, Loss: 0.99\n",
      "Batch: 20, Epoch: 4, Loss: 1.27\n",
      "Batch: 30, Epoch: 4, Loss: 1.35\n",
      "Batch: 40, Epoch: 4, Loss: 1.28\n",
      "Batch: 50, Epoch: 4, Loss: 1.12\n",
      "Epoch [4/10], Avg Loss: 1.2812\n",
      "*** Validation Accuracy: 48.00% ***\n",
      "Batch: 10, Epoch: 5, Loss: 1.16\n",
      "Batch: 20, Epoch: 5, Loss: 1.24\n",
      "Batch: 30, Epoch: 5, Loss: 1.10\n",
      "Batch: 40, Epoch: 5, Loss: 1.11\n",
      "Batch: 50, Epoch: 5, Loss: 1.77\n",
      "Epoch [5/10], Avg Loss: 1.2080\n",
      "*** Validation Accuracy: 53.39% ***\n",
      "Batch: 10, Epoch: 6, Loss: 1.12\n",
      "Batch: 20, Epoch: 6, Loss: 1.10\n",
      "Batch: 30, Epoch: 6, Loss: 1.12\n",
      "Batch: 40, Epoch: 6, Loss: 1.09\n",
      "Batch: 50, Epoch: 6, Loss: 0.90\n",
      "Epoch [6/10], Avg Loss: 1.1537\n",
      "*** Validation Accuracy: 51.83% ***\n",
      "Batch: 10, Epoch: 7, Loss: 1.30\n",
      "Batch: 20, Epoch: 7, Loss: 1.12\n",
      "Batch: 30, Epoch: 7, Loss: 1.02\n",
      "Batch: 40, Epoch: 7, Loss: 1.02\n",
      "Batch: 50, Epoch: 7, Loss: 1.22\n",
      "Epoch [7/10], Avg Loss: 1.1284\n",
      "*** Validation Accuracy: 54.26% ***\n",
      "Batch: 10, Epoch: 8, Loss: 0.95\n",
      "Batch: 20, Epoch: 8, Loss: 1.21\n",
      "Batch: 30, Epoch: 8, Loss: 1.12\n",
      "Batch: 40, Epoch: 8, Loss: 1.16\n",
      "Batch: 50, Epoch: 8, Loss: 0.92\n",
      "Epoch [8/10], Avg Loss: 1.1307\n",
      "*** Validation Accuracy: 52.52% ***\n",
      "Batch: 10, Epoch: 9, Loss: 0.98\n",
      "Batch: 20, Epoch: 9, Loss: 1.11\n",
      "Batch: 30, Epoch: 9, Loss: 1.07\n",
      "Batch: 40, Epoch: 9, Loss: 0.95\n",
      "Batch: 50, Epoch: 9, Loss: 0.90\n",
      "Epoch [9/10], Avg Loss: 1.0807\n",
      "*** Validation Accuracy: 53.04% ***\n",
      "Batch: 10, Epoch: 10, Loss: 1.00\n",
      "Batch: 20, Epoch: 10, Loss: 1.09\n",
      "Batch: 30, Epoch: 10, Loss: 1.36\n",
      "Batch: 40, Epoch: 10, Loss: 0.96\n",
      "Batch: 50, Epoch: 10, Loss: 1.07\n",
      "Epoch [10/10], Avg Loss: 1.0907\n",
      "*** Validation Accuracy: 50.43% ***\n",
      "Execution time: 667.3993468284607 seconds\n"
     ]
    }
   ],
   "source": [
    "model = CarClassifierCNNWithRegularization(num_classes=num_classes).to(device)\n",
    "criterion = nn.CrossEntropyLoss()\n",
    "optimizer = optim.Adam(model.parameters(), lr=0.001, weight_decay=1e-4)\n",
    "\n",
    "all_labels, all_predictions = train_model(model, criterion, optimizer,  epochs=10)"
   ]
  },
  {
   "cell_type": "markdown",
   "id": "ffbfe5b1",
   "metadata": {},
   "source": [
    "### Model 3: Transfer Learning with EfficientNet"
   ]
  },
  {
   "cell_type": "code",
   "execution_count": 76,
   "id": "4c2ed16a",
   "metadata": {},
   "outputs": [
    {
     "data": {
      "text/plain": [
       "1280"
      ]
     },
     "execution_count": 76,
     "metadata": {},
     "output_type": "execute_result"
    }
   ],
   "source": [
    "model = models.efficientnet_b0(weights='DEFAULT')\n",
    "model.classifier[1].in_features"
   ]
  },
  {
   "cell_type": "code",
   "execution_count": 77,
   "id": "bc5f350c",
   "metadata": {},
   "outputs": [],
   "source": [
    "class CarClassifierEfficientNet(nn.Module):\n",
    "    def __init__(self, num_classes):\n",
    "        super().__init__()\n",
    "        self.model = models.efficientnet_b0(weights='DEFAULT')\n",
    "        \n",
    "        for param in self.model.parameters():\n",
    "            param.requires_grad = False\n",
    "        \n",
    "        in_features = self.model.classifier[1].in_features\n",
    "        \n",
    "        self.model.classifier = nn.Sequential(\n",
    "            nn.Dropout(0.5),\n",
    "            nn.Linear(in_features, num_classes)\n",
    "        )\n",
    "        \n",
    "    def forward(self, x):\n",
    "        x = self.model(x)\n",
    "        return x              "
   ]
  },
  {
   "cell_type": "code",
   "execution_count": 81,
   "id": "0d848396",
   "metadata": {},
   "outputs": [
    {
     "name": "stdout",
     "output_type": "stream",
     "text": [
      "Batch: 10, Epoch: 1, Loss: 1.69\n",
      "Batch: 20, Epoch: 1, Loss: 1.55\n",
      "Batch: 30, Epoch: 1, Loss: 1.47\n",
      "Batch: 40, Epoch: 1, Loss: 1.30\n",
      "Batch: 50, Epoch: 1, Loss: 1.23\n",
      "Epoch [1/10], Avg Loss: 1.5018\n",
      "*** Validation Accuracy: 52.70% ***\n",
      "Batch: 10, Epoch: 2, Loss: 1.26\n",
      "Batch: 20, Epoch: 2, Loss: 0.99\n",
      "Batch: 30, Epoch: 2, Loss: 1.11\n",
      "Batch: 40, Epoch: 2, Loss: 1.06\n",
      "Batch: 50, Epoch: 2, Loss: 1.05\n",
      "Epoch [2/10], Avg Loss: 1.1384\n",
      "*** Validation Accuracy: 60.52% ***\n",
      "Batch: 10, Epoch: 3, Loss: 0.86\n",
      "Batch: 20, Epoch: 3, Loss: 1.01\n",
      "Batch: 30, Epoch: 3, Loss: 0.94\n",
      "Batch: 40, Epoch: 3, Loss: 1.00\n",
      "Batch: 50, Epoch: 3, Loss: 1.13\n",
      "Epoch [3/10], Avg Loss: 1.0067\n",
      "*** Validation Accuracy: 62.78% ***\n",
      "Batch: 10, Epoch: 4, Loss: 1.12\n",
      "Batch: 20, Epoch: 4, Loss: 0.88\n",
      "Batch: 30, Epoch: 4, Loss: 0.99\n",
      "Batch: 40, Epoch: 4, Loss: 1.14\n",
      "Batch: 50, Epoch: 4, Loss: 1.12\n",
      "Epoch [4/10], Avg Loss: 0.9476\n",
      "*** Validation Accuracy: 63.65% ***\n",
      "Batch: 10, Epoch: 5, Loss: 0.90\n",
      "Batch: 20, Epoch: 5, Loss: 0.92\n",
      "Batch: 30, Epoch: 5, Loss: 0.82\n",
      "Batch: 40, Epoch: 5, Loss: 0.92\n",
      "Batch: 50, Epoch: 5, Loss: 0.99\n",
      "Epoch [5/10], Avg Loss: 0.8969\n",
      "*** Validation Accuracy: 66.78% ***\n",
      "Batch: 10, Epoch: 6, Loss: 0.75\n",
      "Batch: 20, Epoch: 6, Loss: 0.84\n",
      "Batch: 30, Epoch: 6, Loss: 0.62\n",
      "Batch: 40, Epoch: 6, Loss: 0.89\n",
      "Batch: 50, Epoch: 6, Loss: 0.60\n",
      "Epoch [6/10], Avg Loss: 0.8590\n",
      "*** Validation Accuracy: 64.17% ***\n",
      "Batch: 10, Epoch: 7, Loss: 0.90\n",
      "Batch: 20, Epoch: 7, Loss: 0.81\n",
      "Batch: 30, Epoch: 7, Loss: 0.80\n",
      "Batch: 40, Epoch: 7, Loss: 0.87\n",
      "Batch: 50, Epoch: 7, Loss: 0.96\n",
      "Epoch [7/10], Avg Loss: 0.8399\n",
      "*** Validation Accuracy: 65.39% ***\n",
      "Batch: 10, Epoch: 8, Loss: 0.84\n",
      "Batch: 20, Epoch: 8, Loss: 0.76\n",
      "Batch: 30, Epoch: 8, Loss: 0.75\n",
      "Batch: 40, Epoch: 8, Loss: 0.76\n",
      "Batch: 50, Epoch: 8, Loss: 0.86\n",
      "Epoch [8/10], Avg Loss: 0.8108\n",
      "*** Validation Accuracy: 64.35% ***\n",
      "Batch: 10, Epoch: 9, Loss: 1.08\n",
      "Batch: 20, Epoch: 9, Loss: 0.84\n",
      "Batch: 30, Epoch: 9, Loss: 0.99\n",
      "Batch: 40, Epoch: 9, Loss: 0.76\n",
      "Batch: 50, Epoch: 9, Loss: 0.78\n",
      "Epoch [9/10], Avg Loss: 0.8244\n",
      "*** Validation Accuracy: 65.39% ***\n",
      "Batch: 10, Epoch: 10, Loss: 0.59\n",
      "Batch: 20, Epoch: 10, Loss: 0.77\n",
      "Batch: 30, Epoch: 10, Loss: 0.64\n",
      "Batch: 40, Epoch: 10, Loss: 0.81\n",
      "Batch: 50, Epoch: 10, Loss: 0.87\n",
      "Epoch [10/10], Avg Loss: 0.7916\n",
      "*** Validation Accuracy: 65.74% ***\n",
      "Execution time: 777.6241436004639 seconds\n"
     ]
    }
   ],
   "source": [
    "model = CarClassifierEfficientNet(num_classes=num_classes).to(device)\n",
    "criterion = nn.CrossEntropyLoss()\n",
    "optimizer = optim.Adam(filter(lambda p: p.requires_grad, model.parameters()), lr=0.001)\n",
    "\n",
    "all_labels, all_predictions = train_model(model, criterion, optimizer, epochs=10)"
   ]
  },
  {
   "cell_type": "markdown",
   "id": "8375001e",
   "metadata": {},
   "source": [
    "### Model 4: Transfer Learning with ResNet"
   ]
  },
  {
   "cell_type": "code",
   "execution_count": 82,
   "id": "50de3edc",
   "metadata": {},
   "outputs": [],
   "source": [
    "# Load the pre-trained ResNet model\n",
    "class CarClassifierResNet(nn.Module):\n",
    "    def __init__(self, num_classes, dropout_rate=0.5):\n",
    "        super().__init__()\n",
    "        self.model = models.resnet50(weights='DEFAULT')\n",
    "        # Freeze all layers except the final fully connected layer\n",
    "        for param in self.model.parameters():\n",
    "            param.requires_grad = False\n",
    "            \n",
    "        # Unfreeze layer4 and fc layers\n",
    "        for param in self.model.layer4.parameters():\n",
    "            param.requires_grad = True            \n",
    "            \n",
    "        # Replace the final fully connected layer\n",
    "        self.model.fc = nn.Sequential(\n",
    "            nn.Dropout(dropout_rate),\n",
    "            nn.Linear(self.model.fc.in_features, num_classes)\n",
    "        )\n",
    "\n",
    "    def forward(self, x):\n",
    "        x = self.model(x)\n",
    "        return x"
   ]
  },
  {
   "cell_type": "code",
   "execution_count": 80,
   "id": "3bcdf170",
   "metadata": {},
   "outputs": [
    {
     "name": "stdout",
     "output_type": "stream",
     "text": [
      "Batch: 10, Epoch: 1, Loss: 1.18\n",
      "Batch: 20, Epoch: 1, Loss: 0.54\n",
      "Batch: 30, Epoch: 1, Loss: 0.65\n",
      "Batch: 40, Epoch: 1, Loss: 0.81\n",
      "Batch: 50, Epoch: 1, Loss: 0.77\n",
      "Epoch [1/10], Avg Loss: 0.8738\n",
      "*** Validation Accuracy: 71.65% ***\n",
      "Batch: 10, Epoch: 2, Loss: 0.35\n",
      "Batch: 20, Epoch: 2, Loss: 0.43\n",
      "Batch: 30, Epoch: 2, Loss: 0.47\n",
      "Batch: 40, Epoch: 2, Loss: 0.50\n",
      "Batch: 50, Epoch: 2, Loss: 0.43\n",
      "Epoch [2/10], Avg Loss: 0.4777\n",
      "*** Validation Accuracy: 78.78% ***\n",
      "Batch: 10, Epoch: 3, Loss: 0.29\n",
      "Batch: 20, Epoch: 3, Loss: 0.24\n",
      "Batch: 30, Epoch: 3, Loss: 0.39\n",
      "Batch: 40, Epoch: 3, Loss: 0.27\n",
      "Batch: 50, Epoch: 3, Loss: 0.24\n",
      "Epoch [3/10], Avg Loss: 0.3236\n",
      "*** Validation Accuracy: 77.57% ***\n",
      "Batch: 10, Epoch: 4, Loss: 0.20\n",
      "Batch: 20, Epoch: 4, Loss: 0.16\n",
      "Batch: 30, Epoch: 4, Loss: 0.30\n",
      "Batch: 40, Epoch: 4, Loss: 0.17\n",
      "Batch: 50, Epoch: 4, Loss: 0.60\n",
      "Epoch [4/10], Avg Loss: 0.2373\n",
      "*** Validation Accuracy: 80.52% ***\n",
      "Batch: 10, Epoch: 5, Loss: 0.19\n",
      "Batch: 20, Epoch: 5, Loss: 0.11\n",
      "Batch: 30, Epoch: 5, Loss: 0.10\n",
      "Batch: 40, Epoch: 5, Loss: 0.17\n",
      "Batch: 50, Epoch: 5, Loss: 0.35\n",
      "Epoch [5/10], Avg Loss: 0.2083\n",
      "*** Validation Accuracy: 78.43% ***\n",
      "Batch: 10, Epoch: 6, Loss: 0.16\n",
      "Batch: 20, Epoch: 6, Loss: 0.05\n",
      "Batch: 30, Epoch: 6, Loss: 0.05\n",
      "Batch: 40, Epoch: 6, Loss: 0.09\n",
      "Batch: 50, Epoch: 6, Loss: 0.21\n",
      "Epoch [6/10], Avg Loss: 0.1362\n",
      "*** Validation Accuracy: 77.22% ***\n",
      "Batch: 10, Epoch: 7, Loss: 0.08\n",
      "Batch: 20, Epoch: 7, Loss: 0.10\n",
      "Batch: 30, Epoch: 7, Loss: 0.05\n",
      "Batch: 40, Epoch: 7, Loss: 0.28\n",
      "Batch: 50, Epoch: 7, Loss: 0.33\n",
      "Epoch [7/10], Avg Loss: 0.1348\n",
      "*** Validation Accuracy: 77.04% ***\n",
      "Batch: 10, Epoch: 8, Loss: 0.21\n",
      "Batch: 20, Epoch: 8, Loss: 0.03\n",
      "Batch: 30, Epoch: 8, Loss: 0.03\n",
      "Batch: 40, Epoch: 8, Loss: 0.41\n",
      "Batch: 50, Epoch: 8, Loss: 0.12\n",
      "Epoch [8/10], Avg Loss: 0.1087\n",
      "*** Validation Accuracy: 80.52% ***\n",
      "Batch: 10, Epoch: 9, Loss: 0.09\n",
      "Batch: 20, Epoch: 9, Loss: 0.15\n",
      "Batch: 30, Epoch: 9, Loss: 0.02\n",
      "Batch: 40, Epoch: 9, Loss: 0.02\n",
      "Batch: 50, Epoch: 9, Loss: 0.23\n",
      "Epoch [9/10], Avg Loss: 0.0877\n",
      "*** Validation Accuracy: 77.04% ***\n",
      "Batch: 10, Epoch: 10, Loss: 0.12\n",
      "Batch: 20, Epoch: 10, Loss: 0.23\n",
      "Batch: 30, Epoch: 10, Loss: 0.02\n",
      "Batch: 40, Epoch: 10, Loss: 0.12\n",
      "Batch: 50, Epoch: 10, Loss: 0.05\n",
      "Epoch [10/10], Avg Loss: 0.0845\n",
      "*** Validation Accuracy: 76.70% ***\n",
      "Execution time: 968.5888566970825 seconds\n"
     ]
    }
   ],
   "source": [
    "model = CarClassifierResNet(num_classes=num_classes).to(device)\n",
    "criterion = nn.CrossEntropyLoss()\n",
    "optimizer = optim.Adam(filter(lambda p: p.requires_grad, model.parameters()), lr=0.001)\n",
    "\n",
    "labels, predictions = train_model(model, criterion, optimizer, epochs=10)"
   ]
  },
  {
   "cell_type": "markdown",
   "id": "3c83d993",
   "metadata": {},
   "source": [
    "#### I ran hyperparameter tunning in another notebook and figured that the best parameters for resnet models are (1) Dropout rate = 0.2 (2) Learning Rate = 0.005\n",
    "\n",
    "So now let's train the model once again with these best parameters"
   ]
  },
  {
   "cell_type": "code",
   "execution_count": 83,
   "id": "4c337fa5",
   "metadata": {},
   "outputs": [
    {
     "name": "stdout",
     "output_type": "stream",
     "text": [
      "Batch: 10, Epoch: 1, Loss: 1.56\n",
      "Batch: 20, Epoch: 1, Loss: 0.99\n",
      "Batch: 30, Epoch: 1, Loss: 0.88\n",
      "Batch: 40, Epoch: 1, Loss: 0.48\n",
      "Batch: 50, Epoch: 1, Loss: 0.76\n",
      "Epoch [1/10], Avg Loss: 1.0021\n",
      "*** Validation Accuracy: 71.65% ***\n",
      "Batch: 10, Epoch: 2, Loss: 0.43\n",
      "Batch: 20, Epoch: 2, Loss: 0.47\n",
      "Batch: 30, Epoch: 2, Loss: 0.58\n",
      "Batch: 40, Epoch: 2, Loss: 0.60\n",
      "Batch: 50, Epoch: 2, Loss: 0.48\n",
      "Epoch [2/10], Avg Loss: 0.5265\n",
      "*** Validation Accuracy: 73.04% ***\n",
      "Batch: 10, Epoch: 3, Loss: 0.38\n",
      "Batch: 20, Epoch: 3, Loss: 0.23\n",
      "Batch: 30, Epoch: 3, Loss: 0.23\n",
      "Batch: 40, Epoch: 3, Loss: 0.26\n",
      "Batch: 50, Epoch: 3, Loss: 0.30\n",
      "Epoch [3/10], Avg Loss: 0.3634\n",
      "*** Validation Accuracy: 80.87% ***\n",
      "Batch: 10, Epoch: 4, Loss: 0.36\n",
      "Batch: 20, Epoch: 4, Loss: 0.17\n",
      "Batch: 30, Epoch: 4, Loss: 0.31\n",
      "Batch: 40, Epoch: 4, Loss: 0.34\n",
      "Batch: 50, Epoch: 4, Loss: 0.24\n",
      "Epoch [4/10], Avg Loss: 0.2801\n",
      "*** Validation Accuracy: 78.43% ***\n",
      "Batch: 10, Epoch: 5, Loss: 0.23\n",
      "Batch: 20, Epoch: 5, Loss: 0.07\n",
      "Batch: 30, Epoch: 5, Loss: 0.12\n",
      "Batch: 40, Epoch: 5, Loss: 0.27\n",
      "Batch: 50, Epoch: 5, Loss: 0.31\n",
      "Epoch [5/10], Avg Loss: 0.2194\n",
      "*** Validation Accuracy: 81.22% ***\n",
      "Batch: 10, Epoch: 6, Loss: 0.11\n",
      "Batch: 20, Epoch: 6, Loss: 0.08\n",
      "Batch: 30, Epoch: 6, Loss: 0.31\n",
      "Batch: 40, Epoch: 6, Loss: 0.22\n",
      "Batch: 50, Epoch: 6, Loss: 0.48\n",
      "Epoch [6/10], Avg Loss: 0.1623\n",
      "*** Validation Accuracy: 78.43% ***\n",
      "Batch: 10, Epoch: 7, Loss: 0.07\n",
      "Batch: 20, Epoch: 7, Loss: 0.02\n",
      "Batch: 30, Epoch: 7, Loss: 0.10\n",
      "Batch: 40, Epoch: 7, Loss: 0.02\n",
      "Batch: 50, Epoch: 7, Loss: 0.29\n",
      "Epoch [7/10], Avg Loss: 0.1330\n",
      "*** Validation Accuracy: 77.04% ***\n",
      "Batch: 10, Epoch: 8, Loss: 0.17\n",
      "Batch: 20, Epoch: 8, Loss: 0.02\n",
      "Batch: 30, Epoch: 8, Loss: 0.06\n",
      "Batch: 40, Epoch: 8, Loss: 0.57\n",
      "Batch: 50, Epoch: 8, Loss: 0.07\n",
      "Epoch [8/10], Avg Loss: 0.1747\n",
      "*** Validation Accuracy: 74.43% ***\n",
      "Batch: 10, Epoch: 9, Loss: 0.17\n",
      "Batch: 20, Epoch: 9, Loss: 0.05\n",
      "Batch: 30, Epoch: 9, Loss: 0.04\n",
      "Batch: 40, Epoch: 9, Loss: 0.12\n",
      "Batch: 50, Epoch: 9, Loss: 0.20\n",
      "Epoch [9/10], Avg Loss: 0.1977\n",
      "*** Validation Accuracy: 78.43% ***\n",
      "Batch: 10, Epoch: 10, Loss: 0.11\n",
      "Batch: 20, Epoch: 10, Loss: 0.05\n",
      "Batch: 30, Epoch: 10, Loss: 0.39\n",
      "Batch: 40, Epoch: 10, Loss: 0.02\n",
      "Batch: 50, Epoch: 10, Loss: 0.13\n",
      "Epoch [10/10], Avg Loss: 0.1130\n",
      "*** Validation Accuracy: 79.48% ***\n",
      "Execution time: 1048.6570310592651 seconds\n"
     ]
    }
   ],
   "source": [
    "model = CarClassifierResNet(num_classes=num_classes, dropout_rate=0.2).to(device)\n",
    "criterion = nn.CrossEntropyLoss()\n",
    "optimizer = optim.Adam(filter(lambda p: p.requires_grad, model.parameters()), lr=0.005)\n",
    "\n",
    "labels, predictions = train_model(model, criterion, optimizer, epochs=10)"
   ]
  },
  {
   "cell_type": "markdown",
   "id": "35b5bae5",
   "metadata": {},
   "source": [
    "### Model Evaluation using Confusion Matrix and Classification Report"
   ]
  },
  {
   "cell_type": "code",
   "execution_count": 87,
   "id": "c32e8e26",
   "metadata": {},
   "outputs": [
    {
     "name": "stdout",
     "output_type": "stream",
     "text": [
      "              precision    recall  f1-score   support\n",
      "\n",
      "           0       0.73      0.93      0.82       119\n",
      "           1       0.82      0.69      0.75        98\n",
      "           2       0.96      0.81      0.88       122\n",
      "           3       0.84      0.65      0.74        81\n",
      "           4       0.70      0.71      0.71        80\n",
      "           5       0.75      0.92      0.83        75\n",
      "\n",
      "    accuracy                           0.79       575\n",
      "   macro avg       0.80      0.79      0.79       575\n",
      "weighted avg       0.81      0.79      0.79       575\n",
      "\n"
     ]
    }
   ],
   "source": [
    "from sklearn.metrics import classification_report\n",
    "\n",
    "report = classification_report(labels, predictions)\n",
    "print(report)"
   ]
  },
  {
   "cell_type": "code",
   "execution_count": 90,
   "id": "6bf18500",
   "metadata": {},
   "outputs": [
    {
     "data": {
      "image/png": "[encoded data removed]",
      "text/plain": [
       "<Figure size 640x480 with 2 Axes>"
      ]
     },
     "metadata": {},
     "output_type": "display_data"
    }
   ],
   "source": [
    "import numpy as np\n",
    "from sklearn.metrics import confusion_matrix, ConfusionMatrixDisplay\n",
    "from matplotlib import pyplot as plt\n",
    "\n",
    "conf_matrix = confusion_matrix(labels, predictions, labels=np.arange(num_classes))\n",
    "disp = ConfusionMatrixDisplay(confusion_matrix=conf_matrix, display_labels=class_names)\n",
    "disp.plot(cmap=plt.cm.Blues, xticks_rotation=45)\n",
    "plt.title(\"Confusion Matrix for Vehicle Damage Classification\")\n",
    "plt.show()"
   ]
  },
  {
   "cell_type": "markdown",
   "id": "fa8f28f0",
   "metadata": {},
   "source": [
    "### Save the Model"
   ]
  },
  {
   "cell_type": "code",
   "execution_count": 91,
   "id": "68220446",
   "metadata": {},
   "outputs": [],
   "source": [
    "torch.save(model.state_dict(), 'saved_model.pth')"
   ]
  }
 ],
 "metadata": {
  "kernelspec": {
   "display_name": "Python 3 (ipykernel)",
   "language": "python",
   "name": "python3"
  },
  "language_info": {
   "codemirror_mode": {
    "name": "ipython",
    "version": 3
   },
   "file_extension": ".py",
   "mimetype": "text/x-python",
   "name": "python",
   "nbconvert_exporter": "python",
   "pygments_lexer": "ipython3",
   "version": "3.11.2"
  }
 },
 "nbformat": 4,
 "nbformat_minor": 5
}
